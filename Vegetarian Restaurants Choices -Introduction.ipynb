{
 "cells": [
  {
   "cell_type": "markdown",
   "metadata": {
    "collapsed": true
   },
   "source": [
    "## Introduction\n",
    "\n",
    "According to a research from Pew Research Centre, people from US are becoming more and more health concious today.   \n",
    "\n",
    "54% of the US people pay more attention to healthy eating.\n",
    "97% of US people believe that healthy eating habits and getting enough exercises are key to a long and healthy life.   \n",
    "Within millenial group (age <30), around 12% of them are strictly or mostly or simply vegan.\n",
    "\n",
    "As a result, this creates a huge opportunity for health business, such as fitness centre, vegan restaurants in the country.\n",
    "Vegan food-related Industry has just started. \n",
    "\n",
    "\n",
    "[I would like to know more about the research](https://www.pewresearch.org/science/2016/12/01/public-views-about-americans-eating-habits/)\n",
    "\n",
    "![keys to a long and healthy life < ](https://www.pewinternet.org/wp-content/uploads/sites/9/2016/11/PS_2016.12.01_Food-Science_1-03.png \"keys to a long and healthy life\")\n",
    "\n",
    "![Millenial Habits < ](https://assets.pewresearch.org/wp-content/uploads/sites/14/2016/11/30152613/PS_2016.12.01_Food-Science_1-07.png \"Millenial Eating Habits\")\n",
    "\n",
    "\n",
    "\n"
   ]
  },
  {
   "cell_type": "markdown",
   "metadata": {},
   "source": [
    "## Business Problem\n",
    "\n",
    "A friend would like to open a vegetarian restaurant in New York city - Manhattan and he is choosing which location to open up his start up. \n",
    "I would like to provide more information to him regarding the health-related business around the neighbourhood and make a recommendation to him.\n"
   ]
  },
  {
   "cell_type": "code",
   "execution_count": null,
   "metadata": {},
   "outputs": [],
   "source": []
  }
 ],
 "metadata": {
  "kernelspec": {
   "display_name": "Python 3.5",
   "language": "python",
   "name": "python3"
  },
  "language_info": {
   "codemirror_mode": {
    "name": "ipython",
    "version": 3
   },
   "file_extension": ".py",
   "mimetype": "text/x-python",
   "name": "python",
   "nbconvert_exporter": "python",
   "pygments_lexer": "ipython3",
   "version": "3.5.5"
  }
 },
 "nbformat": 4,
 "nbformat_minor": 1
}
